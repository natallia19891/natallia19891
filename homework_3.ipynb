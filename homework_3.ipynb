{
 "cells": [
  {
   "cell_type": "code",
   "execution_count": 45,
   "metadata": {},
   "outputs": [
    {
     "data": {
      "text/plain": [
       "{98, 111, 122, 124, 125, 127, 130, 131, 193, 197, 200, 201, 202, 205}"
      ]
     },
     "execution_count": 45,
     "metadata": {},
     "output_type": "execute_result"
    }
   ],
   "source": [
    "ids = {'user1': [202, 205, 201, 202, 205],\n",
    "      'user2': [197, 193, 197, 197, 200],\n",
    "      'user3': [122, 124, 125, 127, 127, 130, 131],\n",
    "      'user4': [111, 98, 98, 111]}\n",
    "\n",
    "a = list(ids.values())\n",
    "\n",
    "z1 = a[0]\n",
    "z2 = a[1]\n",
    "z3 = a[2]\n",
    "z4 = a[3]\n",
    "\n",
    "z1_set = set(z1)\n",
    "z2_set = set(z2)\n",
    "z3_set = set(z3)\n",
    "z4_set = set(z4)\n",
    "\n",
    "z1_set | z2_set | z3_set | z4_set\n"
   ]
  },
  {
   "cell_type": "code",
   "execution_count": 73,
   "metadata": {},
   "outputs": [
    {
     "data": {
      "text/plain": [
       "{98, 111, 122, 124, 125, 127, 130, 131, 193, 197, 200, 201, 202, 205}"
      ]
     },
     "execution_count": 73,
     "metadata": {},
     "output_type": "execute_result"
    }
   ],
   "source": [
    "ids = {'user1': [202, 205, 201, 202, 205],\n",
    "      'user2': [197, 193, 197, 197, 200],\n",
    "      'user3': [122, 124, 125, 127, 127, 130, 131],\n",
    "      'user4': [111, 98, 98, 111]}\n",
    "\n",
    "a = list(ids.values())\n",
    "set(sum(a, []))"
   ]
  },
  {
   "cell_type": "code",
   "execution_count": 163,
   "metadata": {},
   "outputs": [
    {
     "name": "stdout",
     "output_type": "stream",
     "text": [
      "[202, 205, 201, 202, 205, 197, 193, 197, 197, 200, 122, 124, 125, 127, 127, 130, 131, 111, 98, 98, 111]\n"
     ]
    },
    {
     "data": {
      "text/plain": [
       "{98, 111, 122, 124, 125, 127, 130, 131, 193, 197, 200, 201, 202, 205}"
      ]
     },
     "execution_count": 163,
     "metadata": {},
     "output_type": "execute_result"
    }
   ],
   "source": [
    "ids = {'user1': [202, 205, 201, 202, 205],\n",
    "      'user2': [197, 193, 197, 197, 200],\n",
    "      'user3': [122, 124, 125, 127, 127, 130, 131],\n",
    "      'user4': [111, 98, 98, 111]}\n",
    "a = list(ids.values())\n",
    "everything = []\n",
    "\n",
    "for i in ids.values():\n",
    "    everything.extend(i)\n",
    "print(everything)\n",
    "set(everything)"
   ]
  },
  {
   "cell_type": "code",
   "execution_count": 182,
   "metadata": {},
   "outputs": [
    {
     "name": "stdout",
     "output_type": "stream",
     "text": [
      "{2: 4, 1: 1}\n",
      "Поисковых запросов, содержащих 2 слов: 80 %\n",
      "Поисковых запросов, содержащих 1 слов: 20 %\n"
     ]
    }
   ],
   "source": [
    "queries = ['training online', 'fitness', 'sport equipment', 'swimming types', 'vacation abroad']\n",
    "\n",
    "sep_queries = [dd.split(' ') for dd in queries]\n",
    "a ={}\n",
    "for sep in sep_queries:\n",
    "    a.setdefault(len(sep), 0)\n",
    "    a[len(sep)] += 1\n",
    "    \n",
    "print(a)\n",
    "n = sum([value for value in a.values()])\n",
    "for key, value in a.items():\n",
    "    x = round((value / n)*100)\n",
    "    print(f\"Поисковых запросов, содержащих {key} слов: {x} %\")\n"
   ]
  },
  {
   "cell_type": "code",
   "execution_count": 162,
   "metadata": {},
   "outputs": [
    {
     "name": "stdout",
     "output_type": "stream",
     "text": [
      "{'vk': {'revenue': 103, 'cost': 98, 'ROI': 104.1}, 'yandex': {'revenue': 179, 'cost': 153, 'ROI': 115.99}, 'facebook': {'revenue': 103, 'cost': 110, 'ROI': 92.64}, 'adwords': {'revenue': 35, 'cost': 34, 'ROI': 101.94}, 'twitter': {'revenue': 11, 'cost': 24, 'ROI': 44.83}} \n",
      "\n"
     ]
    }
   ],
   "source": [
    "results = {\n",
    "'vk': {'revenue': 103, 'cost': 98},\n",
    "'yandex': {'revenue': 179, 'cost': 153},\n",
    "'facebook': {'revenue': 103, 'cost': 110},\n",
    "'adwords': {'revenue': 35, 'cost': 34},\n",
    "'twitter': {'revenue': 11, 'cost': 24},\n",
    "}\n",
    "\n",
    "for i in results.values():\n",
    "    i['ROI'] = round(100*i['revenue'] / i['cost'] - 1, 2)\n",
    "\n",
    "print(results)"
   ]
  },
  {
   "cell_type": "code",
   "execution_count": 98,
   "metadata": {},
   "outputs": [
    {
     "name": "stdout",
     "output_type": "stream",
     "text": [
      "Максимальный объем продаж на рекламном канале: vk\n"
     ]
    }
   ],
   "source": [
    "stats = {'facebook': 55, 'yandex': 115, 'vk': 120, 'google': 99, 'email': 42, 'ok': 98}\n",
    "\n",
    "inverse = [(value, key) for key, value in stats.items()]\n",
    "print(f\"Максимальный объем продаж на рекламном канале: {max(inverse)[1]}\")\n",
    "\n",
    "\n"
   ]
  }
 ],
 "metadata": {
  "kernelspec": {
   "display_name": "Python 3",
   "language": "python",
   "name": "python3"
  },
  "language_info": {
   "codemirror_mode": {
    "name": "ipython",
    "version": 3
   },
   "file_extension": ".py",
   "mimetype": "text/x-python",
   "name": "python",
   "nbconvert_exporter": "python",
   "pygments_lexer": "ipython3",
   "version": "3.8.5"
  }
 },
 "nbformat": 4,
 "nbformat_minor": 4
}
