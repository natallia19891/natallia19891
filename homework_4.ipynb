{
 "cells": [
  {
   "cell_type": "code",
   "execution_count": 49,
   "metadata": {},
   "outputs": [
    {
     "name": "stdout",
     "output_type": "stream",
     "text": [
      "20\n",
      "Документ не найден в базе\n"
     ]
    }
   ],
   "source": [
    "documents = [\n",
    "{'type': 'passport', 'number': '2207 876234', 'name': 'Василий Гупкин'},\n",
    "{'type': 'invoice', 'number': '11-2', 'name': 'Геннадий Покемонов'},\n",
    "{'type': 'insurance', 'number': '10006', 'name': 'Аристарх Павлов'}\n",
    "]\n",
    "x = input()\n",
    "def check_owner():\n",
    "    for item in documents:\n",
    "        if x == item['number']:\n",
    "            print(\"Document owner:\", item['name'])\n",
    "            return\n",
    "    print(\"Документ не найден в базе\")\n",
    "    return\n",
    "    \n",
    "check_owner()"
   ]
  },
  {
   "cell_type": "code",
   "execution_count": 47,
   "metadata": {},
   "outputs": [
    {
     "name": "stdout",
     "output_type": "stream",
     "text": [
      "Enter the number: 10006\n",
      "Документ хранится на полке: 2\n"
     ]
    }
   ],
   "source": [
    "directories = {\n",
    "'1': ['2207 876234', '11-2'],\n",
    "'2': ['10006'],\n",
    "'3': []\n",
    "}\n",
    "\n",
    "x = input(\"Enter the number: \")\n",
    "def shelf_check():\n",
    "    for k, v in directories.items():\n",
    "        if x in v:\n",
    "            print(f\"Документ хранится на полке: {k}\")\n",
    "            return\n",
    "    print(\"Документ не найден в базе\")\n",
    "    return\n",
    "    \n",
    "shelf_check()"
   ]
  },
  {
   "cell_type": "code",
   "execution_count": 54,
   "metadata": {},
   "outputs": [
    {
     "name": "stdout",
     "output_type": "stream",
     "text": [
      "№: 2207 876234, тип: passport, владелец: Василий Гупкин, полка хранения: 1\n",
      "№: 11-2, тип: invoice, владелец: Геннадий Покемонов, полка хранения: 1\n",
      "№: 10006, тип: insurance, владелец: Аристарх Павлов, полка хранения: 2\n"
     ]
    }
   ],
   "source": [
    "documents = [\n",
    "{'type': 'passport', 'number': '2207 876234', 'name': 'Василий Гупкин'},\n",
    "{'type': 'invoice', 'number': '11-2', 'name': 'Геннадий Покемонов'},\n",
    "{'type': 'insurance', 'number': '10006', 'name': 'Аристарх Павлов'}\n",
    "]\n",
    "directories = {\n",
    "'1': ['2207 876234', '11-2'],\n",
    "'2': ['10006'],\n",
    "'3': []\n",
    "}\n",
    "\n",
    "def all_data():\n",
    "    for x in documents:\n",
    "        doc_num = x['number']\n",
    "        for k, v in directories.items():\n",
    "            if x['number'] in v:\n",
    "                print(f\"№: {x['number']}, тип: {x['type']}, владелец: {x['name']}, полка хранения: {k}\")\n",
    "    return\n",
    "all_data()"
   ]
  },
  {
   "cell_type": "code",
   "execution_count": 112,
   "metadata": {},
   "outputs": [
    {
     "name": "stdout",
     "output_type": "stream",
     "text": [
      "Введите номер полки: 2\n",
      "Полка добавлена. Текущий перечень полок: 1, 2, 3\n"
     ]
    },
    {
     "data": {
      "text/plain": [
       "{'1': ['2207 876234', '11-2'], '2': [], '3': []}"
      ]
     },
     "execution_count": 112,
     "metadata": {},
     "output_type": "execute_result"
    }
   ],
   "source": [
    "directories = {\n",
    "'1': ['2207 876234', '11-2'],\n",
    "'2': ['10006'],\n",
    "'3': []\n",
    "}\n",
    "\n",
    "user_input = input(\"Введите номер полки: \")\n",
    "def shelf_add():\n",
    "    for k in directories.keys():\n",
    "        if user_input != k:\n",
    "            directories[user_input] = []\n",
    "            print(f\"Полка добавлена. Текущий перечень полок: {', '.join(list(directories.keys()))}\")\n",
    "            return\n",
    "        else:\n",
    "             print(f\"Такая полка существует. Текущий перечень полок: {', '.join(list(directories.keys()))}\")\n",
    "        return\n",
    "shelf_add()"
   ]
  },
  {
   "cell_type": "code",
   "execution_count": 109,
   "metadata": {},
   "outputs": [
    {
     "name": "stdout",
     "output_type": "stream",
     "text": [
      "Введите номер полки: 2\n",
      "На полке есть документы. Текущий перечень полок:  1 2 3\n"
     ]
    }
   ],
   "source": [
    "directories = {\n",
    "'1': ['2207 876234', '11-2'],\n",
    "'2': ['10006'],\n",
    "'3': []\n",
    "}\n",
    "\n",
    "user_input = input(\"Введите номер полки: \")\n",
    "def delite_shelf():\n",
    "    if user_input in directories and len(directories[user_input]) == 0:\n",
    "        directories.pop(user_input)\n",
    "        print(\"Полка удалена. Текущий перечень полок: \", *directories.keys())\n",
    "        return\n",
    "    elif user_input in directories and len(directories[user_input]) != 0:\n",
    "        print(\"На полке есть документы. Текущий перечень полок: \", *directories.keys())\n",
    "        return\n",
    "    elif user_input not in directories:\n",
    "        print(\"Такой полки не существует. Текущий перечень полок: \",  *directories.keys())\n",
    "        return\n",
    "\n",
    "delite_shelf()         "
   ]
  },
  {
   "cell_type": "code",
   "execution_count": null,
   "metadata": {},
   "outputs": [],
   "source": [
    "command = input(\"Введите команду: \")\n",
    "def main(docs, dirs):\n",
    "    while True:\n",
    "        if command == \"p\":\n",
    "            print(check_owner())\n",
    "       \n",
    "        elif command == \"s\":\n",
    "            print(shelf_check())\n",
    "       \n",
    "        elif command == \"l\":\n",
    "            print(all_data())\n",
    "       \n",
    "        elif command == \"ads\":\n",
    "            print(shelf_add())\n",
    "            \n",
    "        elif command == \"ds\":\n",
    "            print(delite_shelf())\n",
    "        return\n",
    "        \n",
    "main(documents, directories)"
   ]
  }
 ],
 "metadata": {
  "kernelspec": {
   "display_name": "Python 3",
   "language": "python",
   "name": "python3"
  },
  "language_info": {
   "codemirror_mode": {
    "name": "ipython",
    "version": 3
   },
   "file_extension": ".py",
   "mimetype": "text/x-python",
   "name": "python",
   "nbconvert_exporter": "python",
   "pygments_lexer": "ipython3",
   "version": "3.8.5"
  }
 },
 "nbformat": 4,
 "nbformat_minor": 4
}
