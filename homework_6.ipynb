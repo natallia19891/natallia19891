{
 "cells": [
  {
   "cell_type": "markdown",
   "metadata": {},
   "source": [
    "The Moscow Times "
   ]
  },
  {
   "cell_type": "code",
   "execution_count": 2,
   "metadata": {},
   "outputs": [
    {
     "data": {
      "text/plain": [
       "datetime.datetime(2002, 10, 2, 0, 0)"
      ]
     },
     "execution_count": 2,
     "metadata": {},
     "output_type": "execute_result"
    }
   ],
   "source": [
    "date_string = 'Wednesday, October 2, 2002'\n",
    "\n",
    "from datetime import datetime\n",
    "\n",
    "date_convert = datetime.strptime(date_string, '%A, %B %d, %Y')\n",
    "date_convert"
   ]
  },
  {
   "cell_type": "markdown",
   "metadata": {},
   "source": [
    "The Guardian"
   ]
  },
  {
   "cell_type": "code",
   "execution_count": 5,
   "metadata": {},
   "outputs": [
    {
     "data": {
      "text/plain": [
       "datetime.datetime(2013, 10, 11, 0, 0)"
      ]
     },
     "execution_count": 5,
     "metadata": {},
     "output_type": "execute_result"
    }
   ],
   "source": [
    "date_string2 = 'Friday, 11.10.13'\n",
    "\n",
    "data_convert2 = datetime.strptime(date_string2, '%A, %d.%m.%y')\n",
    "data_convert2"
   ]
  },
  {
   "cell_type": "markdown",
   "metadata": {},
   "source": [
    "Daily News"
   ]
  },
  {
   "cell_type": "code",
   "execution_count": 9,
   "metadata": {},
   "outputs": [
    {
     "data": {
      "text/plain": [
       "datetime.datetime(1977, 8, 18, 0, 0)"
      ]
     },
     "execution_count": 9,
     "metadata": {},
     "output_type": "execute_result"
    }
   ],
   "source": [
    "date_string3 = 'Thursday, 18 August 1977'\n",
    "\n",
    "data_convert3 = datetime.strptime(date_string3, '%A, %d %B %Y')\n",
    "data_convert3"
   ]
  },
  {
   "cell_type": "code",
   "execution_count": 64,
   "metadata": {},
   "outputs": [
    {
     "data": {
      "text/plain": [
       "False"
      ]
     },
     "execution_count": 64,
     "metadata": {},
     "output_type": "execute_result"
    }
   ],
   "source": [
    "def date_correct():\n",
    "    for entry in stream:\n",
    "        try:\n",
    "            if entry != datetime.strptime(entry, '%Y-%m-%d'):\n",
    "                return False\n",
    "            else:\n",
    "                return True\n",
    "        except ValueError:\n",
    "               return print(\"The incorrect date\")\n",
    "stream = ['2018-04-02', '2018-02-29', '2018-19-02']        \n",
    "date_correct()"
   ]
  },
  {
   "cell_type": "code",
   "execution_count": 67,
   "metadata": {},
   "outputs": [
    {
     "name": "stdout",
     "output_type": "stream",
     "text": [
      "Enter the date: 2018-03-01\n",
      "Enter the date: 2018-03-05\n"
     ]
    },
    {
     "data": {
      "text/plain": [
       "['2018-03-01', '2018-03-02', '2018-03-03', '2018-03-04', '2018-03-05']"
      ]
     },
     "execution_count": 67,
     "metadata": {},
     "output_type": "execute_result"
    }
   ],
   "source": [
    "from datetime import timedelta\n",
    "start_date = input(\"Enter the date: \")\n",
    "end_date = input(\"Enter the date: \")\n",
    "\n",
    "def date_range():\n",
    "    start_dt=datetime.strptime(start_date,'%Y-%m-%d')\n",
    "    end_dt=datetime.strptime(end_date,'%Y-%m-%d')\n",
    "    days=[]\n",
    "    while start_dt<=end_dt:\n",
    "        print_datetime=datetime.strftime(start_dt,'%Y-%m-%d')\n",
    "        days.append(print_datetime)\n",
    "        start_dt+=timedelta(days=1)\n",
    "    return(days)\n",
    "date_range()"
   ]
  }
 ],
 "metadata": {
  "kernelspec": {
   "display_name": "Python 3",
   "language": "python",
   "name": "python3"
  },
  "language_info": {
   "codemirror_mode": {
    "name": "ipython",
    "version": 3
   },
   "file_extension": ".py",
   "mimetype": "text/x-python",
   "name": "python",
   "nbconvert_exporter": "python",
   "pygments_lexer": "ipython3",
   "version": "3.8.5"
  }
 },
 "nbformat": 4,
 "nbformat_minor": 4
}
