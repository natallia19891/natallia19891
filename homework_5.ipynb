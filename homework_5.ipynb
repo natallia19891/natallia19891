{
 "cells": [
  {
   "cell_type": "code",
   "execution_count": null,
   "metadata": {},
   "outputs": [],
   "source": [
    "import json\n",
    "purchases = {}\n",
    "with open (r'C:\\Users\\Lenovo\\OneDrive\\Masaüstü\\l\\purchase_log.txt', 'r') as purchase:\n",
    "    for line in purchase:\n",
    "        x = json.loads(line)\n",
    "        purchases[x['user_id']] = x['category']\n",
    "        \n",
    "with open (r'C:\\Users\\Lenovo\\OneDrive\\Masaüstü\\l\\purchase_log2.txt', 'w') as new_file:\n",
    "    new_file.write(json.dumps(purchases))\n",
    "    \n",
    "purchase.close()\n"
   ]
  },
  {
   "cell_type": "code",
   "execution_count": 4,
   "metadata": {},
   "outputs": [
    {
     "name": "stdout",
     "output_type": "stream",
     "text": [
      "{'user_id': 'category'}\n",
      "{'1840e0b9d4': 'Продукты'}\n",
      "{'4e4f90fcfb': 'Электроника'}\n",
      "{'afea8d72fc': 'Электроника'}\n",
      "{'373a6055fe': 'Бытовая техника'}\n",
      "{'9b2ab046f3': 'Электроника'}\n"
     ]
    }
   ],
   "source": [
    "with open (r'C:\\Users\\Lenovo\\OneDrive\\Masaüstü\\l\\purchase_log.txt', encoding='utf-8') as f:\n",
    "    i=0\n",
    "    for line in f:\n",
    "        line=line.strip()\n",
    "        new_list=json.loads(line)\n",
    "        for a in new_list.items():\n",
    "            key=new_list[\"user_id\"]\n",
    "            value=new_list[\"category\"]\n",
    "            purchases={key:value}\n",
    "        print(purchases)\n",
    "        i +=1\n",
    "        if i>5:\n",
    "            break\n"
   ]
  },
  {
   "cell_type": "code",
   "execution_count": 33,
   "metadata": {},
   "outputs": [
    {
     "ename": "TypeError",
     "evalue": "can only join an iterable",
     "output_type": "error",
     "traceback": [
      "\u001b[1;31m---------------------------------------------------------------------------\u001b[0m",
      "\u001b[1;31mTypeError\u001b[0m                                 Traceback (most recent call last)",
      "\u001b[1;32m<ipython-input-33-e90c74c2f674>\u001b[0m in \u001b[0;36m<module>\u001b[1;34m\u001b[0m\n\u001b[0;32m      4\u001b[0m             \u001b[0mvisits\u001b[0m\u001b[1;33m=\u001b[0m\u001b[0mline\u001b[0m\u001b[1;33m.\u001b[0m\u001b[0mstrip\u001b[0m\u001b[1;33m(\u001b[0m\u001b[1;33m)\u001b[0m\u001b[1;33m.\u001b[0m\u001b[0msplit\u001b[0m\u001b[1;33m(\u001b[0m\u001b[1;34m','\u001b[0m\u001b[1;33m)\u001b[0m\u001b[1;33m\u001b[0m\u001b[1;33m\u001b[0m\u001b[0m\n\u001b[0;32m      5\u001b[0m             \u001b[0mcategory\u001b[0m\u001b[1;33m=\u001b[0m\u001b[0mpurchases\u001b[0m\u001b[1;33m.\u001b[0m\u001b[0mget\u001b[0m\u001b[1;33m(\u001b[0m\u001b[0mvisits\u001b[0m\u001b[1;33m[\u001b[0m\u001b[1;36m0\u001b[0m\u001b[1;33m]\u001b[0m\u001b[1;33m)\u001b[0m\u001b[1;33m\u001b[0m\u001b[1;33m\u001b[0m\u001b[0m\n\u001b[1;32m----> 6\u001b[1;33m             \u001b[0mnew\u001b[0m \u001b[1;33m=\u001b[0m \u001b[1;34m\",\"\u001b[0m\u001b[1;33m.\u001b[0m\u001b[0mjoin\u001b[0m\u001b[1;33m(\u001b[0m\u001b[0mvisits\u001b[0m\u001b[1;33m.\u001b[0m\u001b[0mappend\u001b[0m\u001b[1;33m(\u001b[0m\u001b[0mcategory\u001b[0m\u001b[1;33m)\u001b[0m\u001b[1;33m)\u001b[0m\u001b[1;33m\u001b[0m\u001b[1;33m\u001b[0m\u001b[0m\n\u001b[0m\u001b[0;32m      7\u001b[0m             \u001b[1;32mif\u001b[0m \u001b[0mcategory\u001b[0m \u001b[1;33m!=\u001b[0m \u001b[1;32mNone\u001b[0m\u001b[1;33m:\u001b[0m\u001b[1;33m\u001b[0m\u001b[1;33m\u001b[0m\u001b[0m\n\u001b[0;32m      8\u001b[0m                 \u001b[0mf_write\u001b[0m\u001b[1;33m.\u001b[0m\u001b[0mwrite\u001b[0m\u001b[1;33m(\u001b[0m\u001b[0mjson\u001b[0m\u001b[1;33m.\u001b[0m\u001b[0mdumps\u001b[0m\u001b[1;33m(\u001b[0m\u001b[0mnew\u001b[0m\u001b[1;33m)\u001b[0m\u001b[1;33m)\u001b[0m\u001b[1;33m\u001b[0m\u001b[1;33m\u001b[0m\u001b[0m\n",
      "\u001b[1;31mTypeError\u001b[0m: can only join an iterable"
     ]
    }
   ],
   "source": [
    "with open (r'C:\\Users\\Lenovo\\OneDrive\\Masaüstü\\l\\visit_log.csv', 'r', encoding='utf-8') as f_read:\n",
    "    with open(r'C:\\Users\\Lenovo\\OneDrive\\Masaüstü\\l\\funnel.csv', 'w', encoding='utf-8') as f_write:\n",
    "        for line in f_read:\n",
    "            visits=line.strip().split(',')\n",
    "            category=purchases.get(visits[0])\n",
    "            new = \",\".join(visits.append(category))\n",
    "            if category != None:\n",
    "                f_write.write(json.dumps(new))"
   ]
  },
  {
   "cell_type": "code",
   "execution_count": 28,
   "metadata": {},
   "outputs": [],
   "source": [
    "with open(r'C:\\Users\\Lenovo\\OneDrive\\Masaüstü\\l\\funnel.csv', 'r', encoding='utf-8') as x:\n",
    "    z=0\n",
    "    for line in x:\n",
    "        print(line)\n",
    "        \n",
    "        z+=1\n",
    "        if z>5:\n",
    "            break"
   ]
  }
 ],
 "metadata": {
  "kernelspec": {
   "display_name": "Python 3",
   "language": "python",
   "name": "python3"
  },
  "language_info": {
   "codemirror_mode": {
    "name": "ipython",
    "version": 3
   },
   "file_extension": ".py",
   "mimetype": "text/x-python",
   "name": "python",
   "nbconvert_exporter": "python",
   "pygments_lexer": "ipython3",
   "version": "3.8.5"
  }
 },
 "nbformat": 4,
 "nbformat_minor": 4
}
