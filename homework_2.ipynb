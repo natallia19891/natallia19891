{
 "cells": [
  {
   "cell_type": "code",
   "execution_count": 1,
   "metadata": {},
   "outputs": [
    {
     "name": "stdout",
     "output_type": "stream",
     "text": [
      "enter a number: 7\n",
      "enter a number: 9\n",
      "enter a number: 6\n",
      "enter a number: 0\n",
      "22\n"
     ]
    }
   ],
   "source": [
    "a = int(input(\"enter a number: \"))\n",
    "total = 0\n",
    "while a != 0:\n",
    "    total += a\n",
    "    a = int(input(\"enter a number: \"))\n",
    "print(total)"
   ]
  },
  {
   "cell_type": "code",
   "execution_count": 22,
   "metadata": {},
   "outputs": [
    {
     "name": "stdout",
     "output_type": "stream",
     "text": [
      "enter a word: simple\n",
      "mp\n"
     ]
    }
   ],
   "source": [
    "my_word = input(\"enter a word: \")\n",
    "if len(my_word) % 2 == 0:\n",
    "    print(my_word[int(len(my_word) / 2 - 1)] + my_word[int(len(my_word) / 2)])\n",
    "else:\n",
    "    print(my_word[len(my_word) / 2])\n"
   ]
  },
  {
   "cell_type": "code",
   "execution_count": 32,
   "metadata": {},
   "outputs": [
    {
     "name": "stdout",
     "output_type": "stream",
     "text": [
      "[('Alyona', 'Anton'), ('Anna', 'Petr'), ('Mary', 'Sergei'), ('Tatsiana', 'Vasiliy')]\n"
     ]
    }
   ],
   "source": [
    "girls = ['Anna', 'Mary', 'Tatsiana', 'Alyona']\n",
    "boys = ['Petr', 'Vasiliy', 'Sergei', 'Anton']\n",
    "\n",
    "zipped_lst = list(zip(sorted(girls), sorted(boys)))\n",
    "\n",
    "print(zipped_lst)"
   ]
  },
  {
   "cell_type": "code",
   "execution_count": 34,
   "metadata": {},
   "outputs": [
    {
     "name": "stdout",
     "output_type": "stream",
     "text": [
      "Идеальные пары: Alyona и Anton\n",
      "Идеальные пары: Anna и Petr\n",
      "Идеальные пары: Mary и Sergei\n",
      "Идеальные пары: Tatsiana и Vasiliy\n"
     ]
    }
   ],
   "source": [
    "for pair in zipped_lst:\n",
    "    if len(sorted(girls)) == len(sorted(boys)):  \n",
    "        print(f\"Идеальные пары: {pair[0]} и {pair[1]}\")\n",
    "    else:\n",
    "        print(\"Внимание! Кто-то может остаться без пары!\")"
   ]
  },
  {
   "cell_type": "code",
   "execution_count": 2,
   "metadata": {},
   "outputs": [
    {
     "name": "stdout",
     "output_type": "stream",
     "text": [
      "Thailand - 23.9 C\n",
      "Germany - 13.8 C\n",
      "Russia - 3.7 C\n",
      "Poland - 12.0 C\n"
     ]
    }
   ],
   "source": [
    "countries_temperature = [\n",
    "    ['Thailand', [75.2, 77, 78.8, 73.4, 68, 75.2, 77]],\n",
    "    ['Germany', [57.2, 55.4, 59, 59, 53.6]],\n",
    "    ['Russia', [35.6, 37.4, 39.2, 41, 42.8, 39.2, 35.6]],\n",
    "    ['Poland', [50, 50, 53.6, 57.2, 55.4, 55.4]]\n",
    "]\n",
    "\n",
    "for i in countries_temperature:\n",
    "    print(i[0], '-', round((sum(i[1]) / len(i[1]) - 32) / 1.8, 1), 'C')"
   ]
  }
 ],
 "metadata": {
  "kernelspec": {
   "display_name": "Python 3",
   "language": "python",
   "name": "python3"
  },
  "language_info": {
   "codemirror_mode": {
    "name": "ipython",
    "version": 3
   },
   "file_extension": ".py",
   "mimetype": "text/x-python",
   "name": "python",
   "nbconvert_exporter": "python",
   "pygments_lexer": "ipython3",
   "version": "3.8.5"
  }
 },
 "nbformat": 4,
 "nbformat_minor": 4
}
