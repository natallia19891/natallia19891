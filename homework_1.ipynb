{
 "cells": [
  {
   "cell_type": "code",
   "execution_count": 1,
   "metadata": {},
   "outputs": [
    {
     "name": "stdout",
     "output_type": "stream",
     "text": [
      "phrase_1 is shorter than phrase_2\n",
      "The end of the program\n"
     ]
    }
   ],
   "source": [
    "phrase_1 = \"I am so happy\"\n",
    "phrase_2 = \"Today is the best day in my life\"\n",
    "if phrase_1 > phrase_2:\n",
    "    print(\"phrase_1 is longer than phrase_2 or equal to it\")\n",
    "elif phrase_1 == phrase_2:\n",
    "    print(\"phrase_1 is equal to phrase_2\")\n",
    "else: \n",
    "    print(\"phrase_1 is shorter than phrase_2\")\n",
    "            \n",
    "print(\"The end of the program\")"
   ]
  },
  {
   "cell_type": "code",
   "execution_count": 1,
   "metadata": {},
   "outputs": [
    {
     "name": "stdout",
     "output_type": "stream",
     "text": [
      "phrase_1 is shorter than phrase_2\n",
      "The end of the program\n"
     ]
    }
   ],
   "source": [
    "phrase_1 = \"I am so happy\"\n",
    "phrase_2 = \"Todaye is the best day in my life\"\n",
    "\n",
    "if len(phrase_1) > len(phrase_2):\n",
    "    print(\"phrase_1 is longer than phrase_2\")\n",
    "elif len(phrase_1) == len(phrase_2):\n",
    "    print(\"phrase_1 is equal to phrase_2\")\n",
    "else:\n",
    "     print(\"phrase_1 is shorter than phrase_2\")\n",
    "            \n",
    "print(\"The end of the program\")"
   ]
  },
  {
   "cell_type": "code",
   "execution_count": null,
   "metadata": {},
   "outputs": [],
   "source": []
  },
  {
   "cell_type": "code",
   "execution_count": 2,
   "metadata": {},
   "outputs": [
    {
     "name": "stdout",
     "output_type": "stream",
     "text": [
      "2000\n",
      "Високосный год\n",
      "Конец программы\n"
     ]
    }
   ],
   "source": [
    "year = int(input())\n",
    "if (year %4 == 0 and year %100 != 0) or (year %400 == 0):\n",
    "    print(\"Високосный год\")\n",
    "else:\n",
    "    print(\"Обычный год\")\n",
    "print(\"Конец программы\")"
   ]
  },
  {
   "cell_type": "code",
   "execution_count": 3,
   "metadata": {},
   "outputs": [
    {
     "name": "stdout",
     "output_type": "stream",
     "text": [
      "Введите день рождения6\n",
      "Введите месяц рождения1\n",
      "Введите год рождения1989\n",
      "Знак зодиака - Козерог\n"
     ]
    }
   ],
   "source": [
    "day_birth = int(input(\"Введите день рождения\"))\n",
    "month_birth = int(input(\"Введите месяц рождения\"))\n",
    "year_birth = int(input(\"Введите год рождения\"))\n",
    "\n",
    "if (day_birth>=21 and day_birth<=31 and month_birth==3) or(month_birth==4 and day_birth>=1 and day_birth<=19):\n",
    "   print(\"Знак зодиака - Овен\")\n",
    "elif (day_birth>=20 and day_birth<=30 and month_birth==4) or(month_birth==5 and day_birth>=1 and day_birth<=20):\n",
    "   print(\"Знак зодиака - Телец\")\n",
    "elif (day_birth>=21 and day_birth<=31 and month_birth==5) or(month_birth==6 and day_birth>=1 and day_birth<=21):\n",
    "   print(\"Знак зодиака - Близнецы\")\n",
    "elif (day_birth>=22 and day_birth<=30 and month_birth==6) or(month_birth==7 and day_birth>=1 and day_birth<=22):\n",
    "   print(\"Знак зодиака - Рак\")\n",
    "elif (day_birth>=23 and day_birth<=31 and month_birth==7) or(month_birth==8 and day_birth>=1 and day_birth<=22):\n",
    "   print(\"Знак зодиака - Лев\")\n",
    "elif (day_birth>=23 and day_birth<=31 and month_birth==8) or(month_birth==9 and day_birth>=1 and day_birth<=22):\n",
    "   print(\"Знак зодиака - Дева\")\n",
    "elif (day_birth>=23 and day_birth<=30 and month_birth==9) or(month_birth==10 and day_birth>=1 and day_birth<=23):\n",
    "   print(\"Знак зодиака - Весы\")\n",
    "elif (day_birth>=24 and day_birth<=31 and month_birth==10) or(month_birth==11 and day_birth>=1 and day_birth<=22):\n",
    "   print(\"Знак зодиака - Скорпион\")\n",
    "elif (day_birth>=23 and day_birth<=30 and month_birth==11) or(month_birth==12 and day_birth>=1 and day_birth<=21):\n",
    "   print(\"Знак зодиака - Стрелец\")\n",
    "elif (day_birth>=22 and day_birth<=31 and month_birth==12) or(month_birth==1 and day_birth>=1 and day_birth<=20):\n",
    "   print(\"Знак зодиака - Козерог\")\n",
    "elif (day_birth>=21 and day_birth<=31 and month_birth==1) or(month_birth==2 and day_birth>=1 and day_birth<=18):\n",
    "   print(\"Знак зодиака - Водолей\")\n",
    "else: \n",
    "    print(\"Знак зодиака - Рыбы\")"
   ]
  },
  {
   "cell_type": "code",
   "execution_count": 2,
   "metadata": {},
   "outputs": [
    {
     "name": "stdout",
     "output_type": "stream",
     "text": [
      "Длина, см205\n",
      "Ширина, см45\n",
      "Высота, см45\n",
      "Упаковка для лыж\n"
     ]
    }
   ],
   "source": [
    "length = int(input(\"Длина, см\"))\n",
    "width = int(input(\"Ширина, см\"))\n",
    "height = int(input(\"Высота, см\"))\n",
    "\n",
    "if length > 200:\n",
    "    print(\"Упаковка для лыж\")\n",
    "elif length < 15 and width < 15 and height < 15:\n",
    "    print(\"Коробка №1\")\n",
    "elif (length > 15 and length < 50) or (width > 15 and width < 50) or (height > 15 and height < 50):\n",
    "    print(\"Коробка №2\")\n",
    "else:\n",
    "    print(\"Стандартная коробка №3\")"
   ]
  },
  {
   "cell_type": "code",
   "execution_count": 6,
   "metadata": {},
   "outputs": [
    {
     "name": "stdout",
     "output_type": "stream",
     "text": [
      "123321\n",
      "Счастливый\n"
     ]
    }
   ],
   "source": [
    "s = str(input())\n",
    "sum1=int(s[0])+int(s[1])+int(s[2])\n",
    "sum2=int(s[3])+int(s[4])+int(s[5])\n",
    "if sum1==sum2:\n",
    "  print('Счастливый')\n",
    "else:\n",
    "  print('Обычный')"
   ]
  }
 ],
 "metadata": {
  "kernelspec": {
   "display_name": "Python 3",
   "language": "python",
   "name": "python3"
  },
  "language_info": {
   "codemirror_mode": {
    "name": "ipython",
    "version": 3
   },
   "file_extension": ".py",
   "mimetype": "text/x-python",
   "name": "python",
   "nbconvert_exporter": "python",
   "pygments_lexer": "ipython3",
   "version": "3.8.5"
  }
 },
 "nbformat": 4,
 "nbformat_minor": 4
}
